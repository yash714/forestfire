{
 "cells": [
  {
   "cell_type": "code",
   "execution_count": 1,
   "id": "cce685ce",
   "metadata": {},
   "outputs": [
    {
     "name": "stdout",
     "output_type": "stream",
     "text": [
      "Requirement already satisfied: flask in c:\\users\\yash\\anaconda3\\lib\\site-packages (1.1.2)\n",
      "Requirement already satisfied: click>=5.1 in c:\\users\\yash\\anaconda3\\lib\\site-packages (from flask) (8.0.3)\n",
      "Requirement already satisfied: Werkzeug>=0.15 in c:\\users\\yash\\anaconda3\\lib\\site-packages (from flask) (2.0.2)\n",
      "Requirement already satisfied: itsdangerous>=0.24 in c:\\users\\yash\\anaconda3\\lib\\site-packages (from flask) (2.0.1)\n",
      "Requirement already satisfied: Jinja2>=2.10.1 in c:\\users\\yash\\anaconda3\\lib\\site-packages (from flask) (2.11.3)\n",
      "Requirement already satisfied: colorama in c:\\users\\yash\\anaconda3\\lib\\site-packages (from click>=5.1->flask) (0.4.4)\n",
      "Requirement already satisfied: MarkupSafe>=0.23 in c:\\users\\yash\\anaconda3\\lib\\site-packages (from Jinja2>=2.10.1->flask) (1.1.1)\n"
     ]
    },
    {
     "name": "stderr",
     "output_type": "stream",
     "text": [
      "WARNING: Ignoring invalid distribution -yqt5-sip (c:\\users\\yash\\anaconda3\\lib\\site-packages)\n",
      "WARNING: Ignoring invalid distribution -yqt5-sip (c:\\users\\yash\\anaconda3\\lib\\site-packages)\n",
      "WARNING: Ignoring invalid distribution -yqt5-sip (c:\\users\\yash\\anaconda3\\lib\\site-packages)\n",
      "WARNING: Ignoring invalid distribution -yqt5-sip (c:\\users\\yash\\anaconda3\\lib\\site-packages)\n",
      "WARNING: Ignoring invalid distribution -yqt5-sip (c:\\users\\yash\\anaconda3\\lib\\site-packages)\n",
      "WARNING: Ignoring invalid distribution -yqt5-sip (c:\\users\\yash\\anaconda3\\lib\\site-packages)\n"
     ]
    }
   ],
   "source": [
    "!pip install flask\n"
   ]
  },
  {
   "cell_type": "code",
   "execution_count": 1,
   "id": "e788b718",
   "metadata": {},
   "outputs": [],
   "source": [
    "from flask import Flask\n"
   ]
  },
  {
   "cell_type": "code",
   "execution_count": null,
   "id": "36466b4e",
   "metadata": {},
   "outputs": [],
   "source": [
    "\n",
    "import pickle\n",
    "from flask import Flask,request,jsonify,render_template\n",
    "import numpy as np\n",
    "import pandas as pd\n",
    "from sklearn.preprocessing import StandardScaler\n",
    "\n",
    "application = Flask(__name__)\n",
    "app=application\n",
    "\n",
    "## import ridge regresor model and standard scaler pickle\n",
    "ridge_model=pickle.load(open('models/ridge.pkl','rb'))\n",
    "standard_scaler=pickle.load(open('models/scaler.pkl','rb'))\n",
    "\n",
    "## Route for home page\n",
    "@app.route('/')\n",
    "def index():\n",
    "    return render_template('index.html')\n",
    "\n",
    "@app.route('/predictdata',methods=['GET','POST'])\n",
    "def predict_datapoint():\n",
    "    if request.method=='POST':\n",
    "        Temperature=float(request.form.get('Temperature'))\n",
    "        RH = float(request.form.get('RH'))\n",
    "        Ws = float(request.form.get('Ws'))\n",
    "        Rain = float(request.form.get('Rain'))\n",
    "        FFMC = float(request.form.get('FFMC'))\n",
    "        DMC = float(request.form.get('DMC'))\n",
    "        ISI = float(request.form.get('ISI'))\n",
    "        Classes = float(request.form.get('Classes'))\n",
    "        Region = float(request.form.get('Region'))\n",
    "\n",
    "        new_data_scaled=standard_scaler.transform([[Temperature,RH,Ws,Rain,FFMC,DMC,ISI,Classes,Region]])\n",
    "        result=ridge_model.predict(new_data_scaled)\n",
    "\n",
    "        return render_template('home.html',result=result[0])\n",
    "\n",
    "    else:\n",
    "        return render_template('home.html')\n",
    "\n",
    "\n",
    "if __name__==\"__main__\":\n",
    "    app.run()\n"
   ]
  },
  {
   "cell_type": "code",
   "execution_count": null,
   "id": "a03cc027",
   "metadata": {},
   "outputs": [],
   "source": [
    "\n",
    "\n",
    "\n"
   ]
  },
  {
   "cell_type": "code",
   "execution_count": null,
   "id": "551fb985",
   "metadata": {},
   "outputs": [],
   "source": []
  }
 ],
 "metadata": {
  "kernelspec": {
   "display_name": "Python 3 (ipykernel)",
   "language": "python",
   "name": "python3"
  },
  "language_info": {
   "codemirror_mode": {
    "name": "ipython",
    "version": 3
   },
   "file_extension": ".py",
   "mimetype": "text/x-python",
   "name": "python",
   "nbconvert_exporter": "python",
   "pygments_lexer": "ipython3",
   "version": "3.9.7"
  }
 },
 "nbformat": 4,
 "nbformat_minor": 5
}
