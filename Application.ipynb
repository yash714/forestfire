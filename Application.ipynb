{
 "cells": [
  {
   "cell_type": "code",
   "execution_count": 1,
   "id": "cce685ce",
   "metadata": {},
   "outputs": [
    {
     "name": "stdout",
     "output_type": "stream",
     "text": [
      "Requirement already satisfied: flask in c:\\users\\yash\\anaconda3\\lib\\site-packages (1.1.2)\n",
      "Requirement already satisfied: click>=5.1 in c:\\users\\yash\\anaconda3\\lib\\site-packages (from flask) (8.0.3)\n",
      "Requirement already satisfied: Werkzeug>=0.15 in c:\\users\\yash\\anaconda3\\lib\\site-packages (from flask) (2.0.2)\n",
      "Requirement already satisfied: itsdangerous>=0.24 in c:\\users\\yash\\anaconda3\\lib\\site-packages (from flask) (2.0.1)\n",
      "Requirement already satisfied: Jinja2>=2.10.1 in c:\\users\\yash\\anaconda3\\lib\\site-packages (from flask) (2.11.3)\n",
      "Requirement already satisfied: colorama in c:\\users\\yash\\anaconda3\\lib\\site-packages (from click>=5.1->flask) (0.4.4)\n",
      "Requirement already satisfied: MarkupSafe>=0.23 in c:\\users\\yash\\anaconda3\\lib\\site-packages (from Jinja2>=2.10.1->flask) (1.1.1)\n"
     ]
    },
    {
     "name": "stderr",
     "output_type": "stream",
     "text": [
      "WARNING: Ignoring invalid distribution -yqt5-sip (c:\\users\\yash\\anaconda3\\lib\\site-packages)\n",
      "WARNING: Ignoring invalid distribution -yqt5-sip (c:\\users\\yash\\anaconda3\\lib\\site-packages)\n",
      "WARNING: Ignoring invalid distribution -yqt5-sip (c:\\users\\yash\\anaconda3\\lib\\site-packages)\n",
      "WARNING: Ignoring invalid distribution -yqt5-sip (c:\\users\\yash\\anaconda3\\lib\\site-packages)\n",
      "WARNING: Ignoring invalid distribution -yqt5-sip (c:\\users\\yash\\anaconda3\\lib\\site-packages)\n",
      "WARNING: Ignoring invalid distribution -yqt5-sip (c:\\users\\yash\\anaconda3\\lib\\site-packages)\n"
     ]
    }
   ],
   "source": [
    "!pip install flask\n"
   ]
  },
  {
   "cell_type": "code",
   "execution_count": 1,
   "id": "e788b718",
   "metadata": {},
   "outputs": [],
   "source": [
    "from flask import Flask\n"
   ]
  },
  {
   "cell_type": "code",
   "execution_count": 3,
   "id": "36466b4e",
   "metadata": {},
   "outputs": [
    {
     "name": "stdout",
     "output_type": "stream",
     "text": [
      " * Serving Flask app \"__main__\" (lazy loading)\n",
      " * Environment: production\n",
      "\u001b[31m   WARNING: This is a development server. Do not use it in a production deployment.\u001b[0m\n",
      "\u001b[2m   Use a production WSGI server instead.\u001b[0m\n",
      " * Debug mode: off\n"
     ]
    },
    {
     "name": "stderr",
     "output_type": "stream",
     "text": [
      " * Running on http://127.0.0.1:5000/ (Press CTRL+C to quit)\n",
      "127.0.0.1 - - [17/Apr/2023 14:59:34] \"GET / HTTP/1.1\" 200 -\n",
      "127.0.0.1 - - [17/Apr/2023 15:03:49] \"GET /predictdata HTTP/1.1\" 200 -\n",
      "127.0.0.1 - - [17/Apr/2023 15:04:05] \"GET / HTTP/1.1\" 200 -\n",
      "127.0.0.1 - - [17/Apr/2023 15:04:18] \"GET /predictdata HTTP/1.1\" 200 -\n",
      "[2023-04-17 15:09:11,444] ERROR in app: Exception on /predictdata [POST]\n",
      "Traceback (most recent call last):\n",
      "  File \"C:\\Users\\Yash\\anaconda3\\lib\\site-packages\\flask\\app.py\", line 2447, in wsgi_app\n",
      "    response = self.full_dispatch_request()\n",
      "  File \"C:\\Users\\Yash\\anaconda3\\lib\\site-packages\\flask\\app.py\", line 1952, in full_dispatch_request\n",
      "    rv = self.handle_user_exception(e)\n",
      "  File \"C:\\Users\\Yash\\anaconda3\\lib\\site-packages\\flask\\app.py\", line 1821, in handle_user_exception\n",
      "    reraise(exc_type, exc_value, tb)\n",
      "  File \"C:\\Users\\Yash\\anaconda3\\lib\\site-packages\\flask\\_compat.py\", line 39, in reraise\n",
      "    raise value\n",
      "  File \"C:\\Users\\Yash\\anaconda3\\lib\\site-packages\\flask\\app.py\", line 1950, in full_dispatch_request\n",
      "    rv = self.dispatch_request()\n",
      "  File \"C:\\Users\\Yash\\anaconda3\\lib\\site-packages\\flask\\app.py\", line 1936, in dispatch_request\n",
      "    return self.view_functions[rule.endpoint](**req.view_args)\n",
      "  File \"C:\\Users\\Yash\\AppData\\Local\\Temp/ipykernel_11564/2683729570.py\", line 29, in predict_datapoint\n",
      "    Classes = float(request.form.get('Classes'))\n",
      "ValueError: could not convert string to float: 'not fire'\n",
      "127.0.0.1 - - [17/Apr/2023 15:09:11] \"POST /predictdata HTTP/1.1\" 500 -\n",
      "127.0.0.1 - - [17/Apr/2023 15:09:23] \"POST /predictdata HTTP/1.1\" 200 -\n"
     ]
    }
   ],
   "source": [
    "\n",
    "import pickle\n",
    "from flask import Flask,request,jsonify,render_template\n",
    "import numpy as np\n",
    "import pandas as pd\n",
    "from sklearn.preprocessing import StandardScaler\n",
    "\n",
    "application = Flask(__name__)\n",
    "app=application\n",
    "\n",
    "## import ridge regresor model and standard scaler pickle\n",
    "ridge_model=pickle.load(open('models/ridge.pkl','rb'))\n",
    "standard_scaler=pickle.load(open('models/scaler.pkl','rb'))\n",
    "\n",
    "## Route for home page\n",
    "@app.route('/')\n",
    "def index():\n",
    "    return render_template('index.html')\n",
    "\n",
    "@app.route('/predictdata',methods=['GET','POST'])\n",
    "def predict_datapoint():\n",
    "    if request.method=='POST':\n",
    "        Temperature=float(request.form.get('Temperature'))\n",
    "        RH = float(request.form.get('RH'))\n",
    "        Ws = float(request.form.get('Ws'))\n",
    "        Rain = float(request.form.get('Rain'))\n",
    "        FFMC = float(request.form.get('FFMC'))\n",
    "        DMC = float(request.form.get('DMC'))\n",
    "        ISI = float(request.form.get('ISI'))\n",
    "        Classes = float(request.form.get('Classes'))\n",
    "        Region = float(request.form.get('Region'))\n",
    "\n",
    "        new_data_scaled=standard_scaler.transform([[Temperature,RH,Ws,Rain,FFMC,DMC,ISI,Classes,Region]])\n",
    "        result=ridge_model.predict(new_data_scaled)\n",
    "\n",
    "        return render_template('home.html',result=result[0])\n",
    "\n",
    "    else:\n",
    "        return render_template('home.html')\n",
    "\n",
    "\n",
    "if __name__==\"__main__\":\n",
    "    app.run()\n"
   ]
  },
  {
   "cell_type": "code",
   "execution_count": 5,
   "id": "a03cc027",
   "metadata": {},
   "outputs": [
    {
     "ename": "NameError",
     "evalue": "name 'ls' is not defined",
     "output_type": "error",
     "traceback": [
      "\u001b[1;31m---------------------------------------------------------------------------\u001b[0m",
      "\u001b[1;31mNameError\u001b[0m                                 Traceback (most recent call last)",
      "\u001b[1;32m~\\AppData\\Local\\Temp/ipykernel_11564/566829131.py\u001b[0m in \u001b[0;36m<module>\u001b[1;34m\u001b[0m\n\u001b[1;32m----> 1\u001b[1;33m \u001b[0mls\u001b[0m \u001b[1;33m-\u001b[0m\u001b[0ma\u001b[0m\u001b[1;33m\u001b[0m\u001b[1;33m\u001b[0m\u001b[0m\n\u001b[0m\u001b[0;32m      2\u001b[0m \u001b[1;33m\u001b[0m\u001b[0m\n",
      "\u001b[1;31mNameError\u001b[0m: name 'ls' is not defined"
     ]
    }
   ],
   "source": [
    "\n",
    "ls -a\n",
    "\n"
   ]
  },
  {
   "cell_type": "code",
   "execution_count": null,
   "id": "551fb985",
   "metadata": {},
   "outputs": [],
   "source": []
  }
 ],
 "metadata": {
  "kernelspec": {
   "display_name": "Python 3 (ipykernel)",
   "language": "python",
   "name": "python3"
  },
  "language_info": {
   "codemirror_mode": {
    "name": "ipython",
    "version": 3
   },
   "file_extension": ".py",
   "mimetype": "text/x-python",
   "name": "python",
   "nbconvert_exporter": "python",
   "pygments_lexer": "ipython3",
   "version": "3.9.7"
  }
 },
 "nbformat": 4,
 "nbformat_minor": 5
}
